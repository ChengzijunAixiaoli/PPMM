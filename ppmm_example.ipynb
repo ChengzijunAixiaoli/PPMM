{
 "cells": [
  {
   "cell_type": "markdown",
   "metadata": {},
   "source": [
    "# Calculate the Wasserstein distance on empirical data points"
   ]
  },
  {
   "cell_type": "code",
   "execution_count": 1,
   "metadata": {},
   "outputs": [],
   "source": [
    "import sys\n",
    "sys.path.append('./lib')\n",
    "import time\n",
    "import ot\n",
    "import numpy as np\n",
    "from scipy.linalg import sqrtm\n",
    "from PPMM_func import projOtm\n"
   ]
  },
  {
   "cell_type": "markdown",
   "metadata": {},
   "source": [
    "# Example 1: Data points with equal weights"
   ]
  },
  {
   "cell_type": "markdown",
   "metadata": {},
   "source": [
    "Generate the data points from multivariate-Gaussian distribution, calcualte the true Wasserstein distance and the Sinkhorn distance"
   ]
  },
  {
   "cell_type": "code",
   "execution_count": 4,
   "metadata": {},
   "outputs": [
    {
     "name": "stdout",
     "output_type": "stream",
     "text": [
      "Finished data generatation.\n",
      "Finished Sinkhorn(1), Time Lapse:  17.484528303146362 s\n"
     ]
    }
   ],
   "source": [
    "N = 10000\n",
    "pp = 10\n",
    "ITR = 100\n",
    "Mu1 = np.repeat(1, pp)\n",
    "Mu2 = np.repeat(-1, pp)\n",
    "\n",
    "S1 = np.zeros((pp, pp))\n",
    "S2 = np.zeros((pp, pp))\n",
    "\n",
    "for i in range(pp):\n",
    "    for j in range(pp):\n",
    "        S1[i,j] = 0.8**(abs(i-j))\n",
    "        S2[i,j] = 0.5**(abs(i-j))\n",
    "\n",
    "a, b = np.ones((N,)) / N, np.ones((N,)) / N\n",
    "\n",
    "np.random.seed(10)        \n",
    "ori_dat = np.random.multivariate_normal(Mu1, S1, N)\n",
    "des_dat = np.random.multivariate_normal(Mu2, S2, N)\n",
    "#Calculate the true Wasserstein distance\n",
    "W_true = np.sqrt(sum((Mu1-Mu2)**2)+np.matrix.trace(S1+S2-2*sqrtm(sqrtm(S1)@S2@sqrtm(S1))))\n",
    "print('Finished data generatation.')\n",
    "time_start=time.time()\n",
    "#Calculate the true empirical Sinkhorn distance\n",
    "Sinkhorn = np.sqrt(ot.bregman.empirical_sinkhorn2(ori_dat, des_dat, reg=1, a=a, b=b, verbose=False))\n",
    "time_end=time.time()\n",
    "print('Finished Sinkhorn(1), Time Lapse: ', time_end-time_start,'s')"
   ]
  },
  {
   "cell_type": "code",
   "execution_count": null,
   "metadata": {},
   "outputs": [],
   "source": [
    "Calculate the Wasserstein distance use difference projection-based methods"
   ]
  },
  {
   "cell_type": "code",
   "execution_count": 3,
   "metadata": {},
   "outputs": [
    {
     "name": "stdout",
     "output_type": "stream",
     "text": [
      "Finished PPMM(SAVE), Time Lapse:  3.4447739124298096 s\n",
      "Finished PPMM(DR), Time Lapse:  3.2919814586639404 s\n",
      "Finished RANDOM, Time Lapse:  1.6190285682678223 s\n",
      "Finished SLICED(10), Time Lapse:  14.211540937423706 s\n"
     ]
    }
   ],
   "source": [
    "dist_hat_save = [0]\n",
    "itr_data = ori_dat\n",
    "\n",
    "time_start=time.time()\n",
    "for i in range(ITR):\n",
    "    itr_data = projOtm(itr_data, des_dat, a, b, method = \"SAVE\")\n",
    "    ddd = itr_data - ori_dat\n",
    "    dist_hat_save.append(np.sqrt(np.mean(np.sum(ddd**2, axis = 1))))\n",
    "time_end=time.time()\n",
    "print('Finished PPMM(SAVE), Time Lapse: ', time_end-time_start,'s')\n",
    "\n",
    "\n",
    "dist_hat_dr = [0]\n",
    "itr_data = ori_dat\n",
    "\n",
    "time_start=time.time()\n",
    "for i in range(ITR):\n",
    "    itr_data = projOtm(itr_data, des_dat, a, b, method = \"DR\")\n",
    "    ddd = itr_data - ori_dat\n",
    "    dist_hat_dr.append(np.sqrt(np.mean(np.sum(ddd**2, axis = 1))))\n",
    "time_end=time.time()\n",
    "print('Finished PPMM(DR), Time Lapse: ', time_end-time_start,'s')\n",
    "\n",
    "\n",
    "\n",
    "dist_hat_random = [0]\n",
    "itr_data = ori_dat\n",
    "\n",
    "time_start=time.time()\n",
    "for i in range(ITR):\n",
    "    itr_data = projOtm(itr_data, des_dat, a, b, method = \"RANDOM\")\n",
    "    ddd = itr_data - ori_dat\n",
    "    dist_hat_random.append(np.sqrt(np.mean(np.sum(ddd**2, axis = 1))))\n",
    "time_end=time.time()\n",
    "print('Finished RANDOM, Time Lapse: ', time_end-time_start,'s')\n",
    "\n",
    "\n",
    "\n",
    "dist_hat_sliced= [0]\n",
    "itr_data = ori_dat\n",
    "\n",
    "time_start=time.time()\n",
    "for i in range(ITR):\n",
    "    itr_data = projOtm(itr_data, des_dat, a, b, method = \"SLICED\", nslice=10)\n",
    "    ddd = itr_data - ori_dat\n",
    "    dist_hat_sliced.append(np.sqrt(np.mean(np.sum(ddd**2, axis = 1))))\n",
    "time_end=time.time()\n",
    "print('Finished SLICED(10), Time Lapse: ', time_end-time_start,'s')\n"
   ]
  },
  {
   "cell_type": "code",
   "execution_count": null,
   "metadata": {},
   "outputs": [],
   "source": [
    "import matplotlib.pyplot as plt\n",
    "plt.style.use('seaborn')\n",
    "%matplotlib inline\n",
    "x = range(ITR+1)\n",
    "plt.plot(x, np.repeat(W_true, ITR+1), color='black', linestyle='--', label='True Wasserstein distance')\n",
    "plt.plot(x, np.repeat(Sinkhorn, ITR+1), color='black', linestyle=':', label='Sinkhorn(1)')\n",
    "plt.plot(x, dist_hat_save, color='red', label='PPMM(SAVE)')\n",
    "plt.plot(x, dist_hat_dr, color='purple', label='PPMM(DR)')\n",
    "plt.plot(x, dist_hat_random, color='green', label='RANDOM')\n",
    "plt.plot(x, dist_hat_sliced, color='blue', label='SLICED(10)')\n",
    "plt.legend()"
   ]
  },
  {
   "cell_type": "markdown",
   "metadata": {},
   "source": [
    "One can observe that PPMM converges to the true Wasserstein distance.\n",
    "Also, PPMM converges faster than RANDOM and SLICED."
   ]
  },
  {
   "cell_type": "markdown",
   "metadata": {},
   "source": [
    "# Example 2: Data points with unequal weights"
   ]
  },
  {
   "cell_type": "code",
   "execution_count": 5,
   "metadata": {},
   "outputs": [
    {
     "name": "stdout",
     "output_type": "stream",
     "text": [
      "Finished data generatation.\n",
      "Finished Sinkhorn(1), Time Lapse:  24.441057443618774 s\n"
     ]
    }
   ],
   "source": [
    "N = 10000\n",
    "pp = 10\n",
    "ITR = 100\n",
    "Mu1 = np.repeat(1, pp)\n",
    "Mu2 = np.repeat(-1, pp)\n",
    "\n",
    "S1 = np.zeros((pp, pp))\n",
    "S2 = np.zeros((pp, pp))\n",
    "\n",
    "for i in range(pp):\n",
    "    for j in range(pp):\n",
    "        S1[i,j] = 0.8**(abs(i-j))\n",
    "        S2[i,j] = 0.5**(abs(i-j))\n",
    "\n",
    "a_raw, b_raw = np.random.uniform(size=N), np.random.uniform(size=N)\n",
    "a_raw[range(100)]=5000\n",
    "b_raw[range(100)]=1000\n",
    "a, b = a_raw/sum(a_raw), b_raw/sum(b_raw)\n",
    "\n",
    "np.random.seed(10)        \n",
    "ori_dat = np.random.multivariate_normal(Mu1, S1, N)\n",
    "des_dat = np.random.multivariate_normal(Mu2, S2, N)\n",
    "\n",
    "print('Finished data generatation.')\n",
    "time_start=time.time()\n",
    "#Calculate the true empirical Sinkhorn distance\n",
    "Sinkhorn = np.sqrt(ot.bregman.empirical_sinkhorn2(ori_dat, des_dat, reg=1, a=a, b=b, verbose=False))\n",
    "time_end=time.time()\n",
    "print('Finished Sinkhorn(1), Time Lapse: ', time_end-time_start,'s')"
   ]
  },
  {
   "cell_type": "code",
   "execution_count": 6,
   "metadata": {},
   "outputs": [
    {
     "name": "stdout",
     "output_type": "stream",
     "text": [
      "Finished PPMM(SAVE), Time Lapse:  3.056236982345581 s\n",
      "Finished PPMM(DR), Time Lapse:  3.227972984313965 s\n",
      "Finished RANDOM, Time Lapse:  1.3757283687591553 s\n",
      "Finished SLICED(10), Time Lapse:  12.217111825942993 s\n"
     ]
    }
   ],
   "source": [
    "dist_hat_save = [0]\n",
    "itr_data = ori_dat\n",
    "\n",
    "time_start=time.time()\n",
    "for i in range(ITR):\n",
    "    itr_data = projOtm(itr_data, des_dat, a, b, method = \"SAVE\")\n",
    "    ddd = itr_data - ori_dat\n",
    "    dist_hat_save.append(np.sqrt(np.mean(np.sum(ddd**2, axis = 1))))\n",
    "time_end=time.time()\n",
    "print('Finished PPMM(SAVE), Time Lapse: ', time_end-time_start,'s')\n",
    "\n",
    "\n",
    "dist_hat_dr = [0]\n",
    "itr_data = ori_dat\n",
    "\n",
    "time_start=time.time()\n",
    "for i in range(ITR):\n",
    "    itr_data = projOtm(itr_data, des_dat, a, b, method = \"DR\")\n",
    "    ddd = itr_data - ori_dat\n",
    "    dist_hat_dr.append(np.sqrt(np.mean(np.sum(ddd**2, axis = 1))))\n",
    "time_end=time.time()\n",
    "print('Finished PPMM(DR), Time Lapse: ', time_end-time_start,'s')\n",
    "\n",
    "\n",
    "\n",
    "dist_hat_random = [0]\n",
    "itr_data = ori_dat\n",
    "\n",
    "time_start=time.time()\n",
    "for i in range(ITR):\n",
    "    itr_data = projOtm(itr_data, des_dat, a, b, method = \"RANDOM\")\n",
    "    ddd = itr_data - ori_dat\n",
    "    dist_hat_random.append(np.sqrt(np.mean(np.sum(ddd**2, axis = 1))))\n",
    "time_end=time.time()\n",
    "print('Finished RANDOM, Time Lapse: ', time_end-time_start,'s')\n",
    "\n",
    "\n",
    "\n",
    "dist_hat_sliced= [0]\n",
    "itr_data = ori_dat\n",
    "\n",
    "time_start=time.time()\n",
    "for i in range(ITR):\n",
    "    itr_data = projOtm(itr_data, des_dat, a, b, method = \"SLICED\", nslice=10)\n",
    "    ddd = itr_data - ori_dat\n",
    "    dist_hat_sliced.append(np.sqrt(np.mean(np.sum(ddd**2, axis = 1))))\n",
    "time_end=time.time()\n",
    "print('Finished SLICED(10), Time Lapse: ', time_end-time_start,'s')\n"
   ]
  },
  {
   "cell_type": "code",
   "execution_count": 7,
   "metadata": {},
   "outputs": [
    {
     "data": {
      "text/plain": [
       "<matplotlib.legend.Legend at 0x1f62a432588>"
      ]
     },
     "execution_count": 7,
     "metadata": {},
     "output_type": "execute_result"
    },
    {
     "data": {
      "image/png": "[encoded data removed]",
      "text/plain": [
       "<Figure size 432x288 with 1 Axes>"
      ]
     },
     "metadata": {
      "needs_background": "light"
     },
     "output_type": "display_data"
    }
   ],
   "source": [
    "import matplotlib.pyplot as plt\n",
    "plt.style.use('seaborn')\n",
    "%matplotlib inline\n",
    "x = range(ITR+1)\n",
    "plt.plot(x, np.repeat(Sinkhorn, ITR+1), color='black', linestyle=':', label='Sinkhorn(1)')\n",
    "plt.plot(x, dist_hat_save, color='red', label='PPMM(SAVE)')\n",
    "plt.plot(x, dist_hat_dr, color='purple', label='PPMM(DR)')\n",
    "plt.plot(x, dist_hat_random, color='green', label='RANDOM')\n",
    "plt.plot(x, dist_hat_sliced, color='blue', label='SLICED(10)')\n",
    "plt.legend()"
   ]
  }
 ],
 "metadata": {
  "kernelspec": {
   "display_name": "Python 3",
   "language": "python",
   "name": "python3"
  },
  "language_info": {
   "codemirror_mode": {
    "name": "ipython",
    "version": 3
   },
   "file_extension": ".py",
   "mimetype": "text/x-python",
   "name": "python",
   "nbconvert_exporter": "python",
   "pygments_lexer": "ipython3",
   "version": "3.7.3"
  }
 },
 "nbformat": 4,
 "nbformat_minor": 2
}
